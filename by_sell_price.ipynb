{
 "cells": [
  {
   "cell_type": "markdown",
   "metadata": {},
   "source": [
    "# Distribution Analysis to Decide Stock Buy and Sell Price"
   ]
  },
  {
   "cell_type": "markdown",
   "metadata": {},
   "source": [
    "#### ©2020 Jingkai Lin"
   ]
  },
  {
   "cell_type": "markdown",
   "metadata": {},
   "source": [
    "## import modules"
   ]
  },
  {
   "cell_type": "code",
   "execution_count": 7,
   "metadata": {},
   "outputs": [
    {
     "name": "stderr",
     "output_type": "stream",
     "text": [
      "Using TensorFlow backend.\n"
     ]
    }
   ],
   "source": [
    "import FundamentalAnalysis\n",
    "import yfinance as yf\n",
    "import pandas as pd\n",
    "import FundamentalAnalysis as fa\n",
    "import numpy as np\n",
    "from sklearn.preprocessing import MinMaxScaler\n",
    "from keras.models import Sequential\n",
    "from keras.layers import Dense, Dropout, LSTM\n",
    "from sklearn.linear_model import LinearRegression\n",
    "from sklearn.linear_model import LassoCV\n",
    "from sklearn.datasets import make_regression\n",
    "import sklearn\n",
    "import matplotlib\n",
    "import matplotlib.pyplot as plt\n",
    "import sklearn.decomposition as dcps\n",
    "import plotly.graph_objects as go\n",
    "from plotly.offline import download_plotlyjs, init_notebook_mode,  plot\n",
    "from plotly.graph_objs import *\n",
    "import statsmodels as sm\n",
    "import seaborn as sns\n",
    "import matplotlib.pyplot as plt\n",
    "from scipy import stats\n",
    "from fitter import Fitter\n",
    "from scipy.optimize import curve_fit\n",
    "import scipy\n",
    "from scipy import optimize\n",
    "from scipy.stats import gamma, lognorm, halflogistic, foldcauchy"
   ]
  },
  {
   "cell_type": "markdown",
   "metadata": {},
   "source": [
    "## import data"
   ]
  },
  {
   "cell_type": "code",
   "execution_count": 8,
   "metadata": {},
   "outputs": [
    {
     "name": "stdout",
     "output_type": "stream",
     "text": [
      "Data for 'adjclose' could not be included.\n"
     ]
    }
   ],
   "source": [
    "###import data\n",
    "ticker = \"KMI\"\n",
    "api_key = \"d0f70c830f0f55737305f5507973bbf2\"\n",
    "\n",
    "# Collect general company information\n",
    "profile = fa.profile(ticker, api_key)\n",
    "\n",
    "\n",
    "# Show recommendations of Analysts\n",
    "ratings = fa.rating(ticker, api_key)\n",
    "\n",
    "#hourly data for the most recent two years\n",
    "df3 = fa.stock_data(ticker, period=\"2y\", interval=\"1h\")\n",
    "\n",
    "#daily data from the begining of the stock\n",
    "df4 = fa.stock_data_detailed(ticker, api_key, begin=\"2000-01-01\", end=\"2018-06-10\")\n",
    "\n",
    "#append two dataset\n",
    "df =pd.DataFrame(df3['close'].append(df4['close']))\n",
    "df.close = df.close.astype(float)\n",
    "df = df.round({'close':1})\n"
   ]
  },
  {
   "cell_type": "markdown",
   "metadata": {},
   "source": [
    "## distribution analysis"
   ]
  },
  {
   "cell_type": "markdown",
   "metadata": {},
   "source": [
    "### try fitting the data distribution with  a quadratic polynomial background with a Gaussian peak"
   ]
  },
  {
   "cell_type": "markdown",
   "metadata": {},
   "source": [
    "#### $$A(f) = a + bf + cf^2 + P e^{-\\frac{1}{2}[(f-f_p)/f_w]^2}$$"
   ]
  },
  {
   "cell_type": "code",
   "execution_count": 33,
   "metadata": {},
   "outputs": [
    {
     "data": {
      "image/png": "[encoded data removed]",
      "text/plain": [
       "<Figure size 432x288 with 1 Axes>"
      ]
     },
     "metadata": {
      "needs_background": "light"
     },
     "output_type": "display_data"
    }
   ],
   "source": [
    "df2 = df['close'].value_counts().sort_index().reset_index()\n",
    "df2.columns = ['price','freq']\n",
    "df2 = df2.loc[df2['freq']>25]\n",
    "def GaussPolyBase(f, a, b, c, P, fp, fw):\n",
    "    return a + b*f + c*f*f + P*np.exp(-0.5*((f-fp)/fw)**2)\n",
    "\n",
    "nlfit, nlpcov = optimize.curve_fit(GaussPolyBase,df2['price'],df2['freq']/sum(df2['freq']),method = 'trf')\n",
    "\n",
    "\n",
    "plt.plot(df2['price'],df2['freq']/sum(df2['freq']),\"g--\",label = 'real freq')\n",
    "plt.plot(df2['price'], GaussPolyBase(df2['price'], nlfit[0],\n",
    "                                     nlfit[1],\n",
    "                                     nlfit[2],\n",
    "                                     nlfit[3],\n",
    "                                     nlfit[4],\n",
    "                                     nlfit[5]),label='Fitted pdf')\n",
    "\n",
    "plt.legend(loc='best')\n",
    "\n",
    "plt.show()"
   ]
  },
  {
   "cell_type": "code",
   "execution_count": 34,
   "metadata": {},
   "outputs": [
    {
     "data": {
      "text/plain": [
       "array([-3.19064283e-01,  3.49152278e-02, -8.89194549e-04,  1.00000000e+00,\n",
       "        1.00000000e+00,  1.00000000e+00])"
      ]
     },
     "execution_count": 34,
     "metadata": {},
     "output_type": "execute_result"
    }
   ],
   "source": [
    "# have a look at the parameters estimated\n",
    "nlfit"
   ]
  },
  {
   "cell_type": "markdown",
   "metadata": {},
   "source": [
    "#### solve differential equatoin to get percentile\n",
    "#### this is not finally resolved since the time consuming for the differential equation is too long"
   ]
  },
  {
   "cell_type": "code",
   "execution_count": 39,
   "metadata": {},
   "outputs": [],
   "source": [
    "from scipy.integrate import solve_ivp\n",
    "def func2(f, y):nlfit[0]+ nlfit[1]*f + nlfit[2]*f*f + nlfit[3]*np.exp(-0.5*((f-nlfit[4])/nlfit[5])**2)"
   ]
  },
  {
   "cell_type": "code",
   "execution_count": null,
   "metadata": {},
   "outputs": [],
   "source": [
    "sol = solve_ivp(func2, [13, 20], [0.1,0.3])"
   ]
  },
  {
   "cell_type": "markdown",
   "metadata": {},
   "source": [
    "### try lognormal distribution"
   ]
  },
  {
   "cell_type": "code",
   "execution_count": 12,
   "metadata": {},
   "outputs": [
    {
     "name": "stderr",
     "output_type": "stream",
     "text": [
      "C:\\Users\\jingk\\Anaconda3\\lib\\site-packages\\scipy\\optimize\\minpack.py:808: OptimizeWarning:\n",
      "\n",
      "Covariance of the parameters could not be estimated\n",
      "\n"
     ]
    },
    {
     "data": {
      "image/png": "[encoded data removed]",
      "text/plain": [
       "<Figure size 432x288 with 1 Axes>"
      ]
     },
     "metadata": {
      "needs_background": "light"
     },
     "output_type": "display_data"
    }
   ],
   "source": [
    "def func(x, a, b, c):\n",
    "    return a * np.exp(-b * x) + c\n",
    " \n",
    "popt, pcov = curve_fit(func,df2['price'],df2['freq']/sum(df2['freq']))\n",
    "\n",
    "\n",
    "plt.plot(df2['price'], func(df2['price'], *popt), 'g--',\n",
    "             label='fit: a=%5.3f, b=%5.3f, c=%5.3f' % tuple(popt))\n",
    "plt.plot(df2['price'],df2['freq']/sum(df2['freq']), 'b-', label='data')\n",
    "                          \n",
    "plt.xlabel('x')\n",
    "plt.ylabel('y')\n",
    "plt.legend()\n",
    "plt.show()"
   ]
  },
  {
   "cell_type": "markdown",
   "metadata": {},
   "source": [
    "###### not good at all for normal distribution"
   ]
  },
  {
   "cell_type": "markdown",
   "metadata": {},
   "source": [
    "### I surrendar and will use basic statistics"
   ]
  },
  {
   "cell_type": "code",
   "execution_count": 61,
   "metadata": {},
   "outputs": [
    {
     "name": "stdout",
     "output_type": "stream",
     "text": [
      "Data for 'adjclose' could not be included.\n"
     ]
    },
    {
     "data": {
      "text/plain": [
       "2.1993025088156877"
      ]
     },
     "execution_count": 61,
     "metadata": {},
     "output_type": "execute_result"
    },
    {
     "data": {
      "image/png": "[encoded data removed]",
      "text/plain": [
       "<Figure size 432x288 with 1 Axes>"
      ]
     },
     "metadata": {
      "needs_background": "light"
     },
     "output_type": "display_data"
    }
   ],
   "source": [
    "df3 = fa.stock_data(ticker, period=\"2y\", interval=\"1h\")\n",
    "\n",
    "df5 = df3['close'].value_counts().sort_index().reset_index()\n",
    "df5.columns = ['price','freq']\n",
    "plt.plot(df5['price'],df5['freq']/sum(df5['freq']),label = 'real freq')\n",
    "\n",
    "\n",
    "df3.close = df3.close.astype(float)\n",
    "\n",
    "a = list(range(1,100))\n",
    "percentile = [i/100 for i in a]\n",
    "percentile_result = df3.close.quantile(percentile)\n",
    "mean = df3.close.mean()\n",
    "df3.close.median()\n",
    "df3.close.std()\n"
   ]
  },
  {
   "cell_type": "markdown",
   "metadata": {},
   "source": [
    "#### buy price will be the 15% percentile calcualted by the mean of [real percentile, percentile from normal distribution]"
   ]
  },
  {
   "cell_type": "code",
   "execution_count": 62,
   "metadata": {},
   "outputs": [
    {
     "data": {
      "text/plain": [
       "16.278751235956264"
      ]
     },
     "execution_count": 62,
     "metadata": {},
     "output_type": "execute_result"
    }
   ],
   "source": [
    "(percentile_result.iloc[14]+(mean-1.04*df3.close.std()))/2"
   ]
  },
  {
   "cell_type": "markdown",
   "metadata": {},
   "source": [
    "#### sell price will be the mean of median and mean"
   ]
  },
  {
   "cell_type": "code",
   "execution_count": 63,
   "metadata": {},
   "outputs": [
    {
     "data": {
      "text/plain": [
       "19.02738903645107"
      ]
     },
     "execution_count": 63,
     "metadata": {},
     "output_type": "execute_result"
    }
   ],
   "source": [
    "(mean + percentile_result.iloc[49])/2"
   ]
  }
 ],
 "metadata": {
  "kernelspec": {
   "display_name": "Python 3",
   "language": "python",
   "name": "python3"
  },
  "language_info": {
   "codemirror_mode": {
    "name": "ipython",
    "version": 3
   },
   "file_extension": ".py",
   "mimetype": "text/x-python",
   "name": "python",
   "nbconvert_exporter": "python",
   "pygments_lexer": "ipython3",
   "version": "3.7.1"
  }
 },
 "nbformat": 4,
 "nbformat_minor": 2
}
